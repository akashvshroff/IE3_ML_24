{
  "cells": [
    {
      "cell_type": "code",
      "execution_count": 1,
      "metadata": {
        "id": "HZuh9TdCWrlG"
      },
      "outputs": [],
      "source": [
        "import numpy as np"
      ]
    },
    {
      "cell_type": "code",
      "execution_count": 2,
      "metadata": {
        "id": "oF4o3doTWx6W"
      },
      "outputs": [],
      "source": [
        "import numpy as np\n",
        "import tensorflow as tf\n",
        "\n",
        "def is_nan_list(lst):\n",
        "    # Check if the list has one element and that element is NaN\n",
        "    return len(lst) == 1 and np.isnan(lst[0])\n",
        "\n",
        "def flatten_landmarks(landmark_list):\n",
        "    \"\"\"\n",
        "    Flattens a list of dictionaries with x, y, z coordinates into a single flat list.\n",
        "\n",
        "    Parameters:\n",
        "    - landmark_list (list): A list of dictionaries, each containing a 'landmark' dictionary with 'x', 'y', 'z'.\n",
        "\n",
        "    Returns:\n",
        "    - flat_list (list): A flattened list of all x, y, and z values from the landmark dictionaries.\n",
        "    \"\"\"\n",
        "    # Check for NaN list condition\n",
        "    if isinstance(landmark_list, list) and len(landmark_list) == 1 and np.isnan(landmark_list[0]):\n",
        "        return [0] * 63  # Return a list of zeros if landmarks are missing\n",
        "\n",
        "    # Flatten the list using list comprehension\n",
        "    flat_list = [coord for landmark in landmark_list for coord in landmark['landmark'].values()]\n",
        "\n",
        "    return flat_list\n",
        "\n",
        "def prepare_lstm_data(data):\n",
        "    \"\"\"\n",
        "    Converts a 2D numpy array into input tensors for LSTM training.\n",
        "\n",
        "    Parameters:\n",
        "    - data (numpy array): 2D array where each row is [label, right_landmarks, left_landmarks]\n",
        "      `right_landmarks` and `left_landmarks` are lists containing 21 dictionaries each, with x, y, z coordinates, or [nan] if missing.\n",
        "\n",
        "    represent data for each time step as a flat 126 element array (21 * 3 * 2).\n",
        "    i landmarks, let xri be the x coordinate for the ith landmark for the right hand, xli then [xr1, yr1, zr1.... xr26, yr26, zr26, xl1, yl1, zl1, ....  xl26, yl26, zl26] is the data\n",
        "    For each label (2d: (num_timesteps, data_per_timestep))\n",
        "\n",
        "    Returns:\n",
        "    - X (numpy array): Input features for LSTM (sequences of landmarks)\n",
        "    - y (numpy array): Labels for each sequence\n",
        "    \"\"\"\n",
        "    n_samples = data.shape[0]\n",
        "    n_landmarks = 21  # Assuming 21 landmarks per hand\n",
        "    n_coordinates = 3  # x, y, and z coordinates\n",
        "\n",
        "    # Prepare arrays for inputs and labels\n",
        "    # Assuming each sequence can vary in length, we will use a list to collect them\n",
        "    X = []\n",
        "    y = []\n",
        "\n",
        "    for i in range(n_samples):\n",
        "      right_hand = data[i, 1]  # Right hand landmarks\n",
        "      left_hand = data[i, 2]  # Left hand landmarks\n",
        "\n",
        "      seq_len = 21\n",
        "      seq_landmarks = []\n",
        "      if right_hand is not None and left_hand is not None:\n",
        "        for sequence_id in range(len(right_hand)):\n",
        "          right_seq = right_hand[sequence_id][\"landmark_list\"]\n",
        "          left_seq = left_hand[sequence_id][\"landmark_list\"]\n",
        "          if is_nan_list(right_seq) and is_nan_list(left_seq):\n",
        "            continue\n",
        "          right_landmarks = flatten_landmarks(right_seq)\n",
        "          left_landmarks = flatten_landmarks(left_seq)\n",
        "          landmarks = right_landmarks + left_landmarks\n",
        "          seq_landmarks.append(landmarks)\n",
        "\n",
        "        # Concatenate right and left hand landmark data\n",
        "        X.append(seq_landmarks)\n",
        "        y.append(data[i, 0])\n",
        "\n",
        "    # Convert list to numpy array for LSTM processing, handling variable sequence lengths appropriately if necessary\n",
        "    X = np.array(X, dtype=object)  # Use dtype=object for variable-length sequences\n",
        "    y = np.array(y)\n",
        "    return X, y"
      ]
    },
    {
      "cell_type": "code",
      "execution_count": 3,
      "metadata": {
        "colab": {
          "base_uri": "https://localhost:8080/"
        },
        "id": "X_j801uNEgrP",
        "outputId": "7d2ce5f1-4e79-4773-d904-c7bec121272c"
      },
      "outputs": [
        {
          "output_type": "stream",
          "name": "stdout",
          "text": [
            "1 now processing asllvd-1-0.npy\n",
            "2 now processing asllvd-4-0.npy\n",
            "3 now processing asllvd-5-0.npy\n",
            "4 now processing asllvd-2-0.npy\n",
            "5 now processing asllvd-7-0.npy\n",
            "6 now processing asllvd-6-0.npy\n",
            "7 now processing asllvd-3-0.npy\n",
            "8 now processing asllvd-6-1.npy\n",
            "9 now processing asllvd-0-1.npy\n",
            "10 now processing asllvd-5-1.npy\n",
            "11 now processing asllvd-4-1.npy\n",
            "12 now processing asllvd-1-1.npy\n",
            "13 now processing asllvd-7-1.npy\n",
            "14 now processing asllvd-3-1.npy\n",
            "15 now processing asllvd-2-1.npy\n",
            "16 now processing no_yt-0-0.npy\n",
            "17 now processing no_yt-3-0.npy\n",
            "18 now processing no_yt-4-0.npy\n",
            "19 now processing no_yt-5-0.npy\n",
            "20 now processing no_yt-6-0.npy\n",
            "21 now processing no_yt-7-0.npy\n",
            "22 now processing no_yt-2-0.npy\n",
            "23 now processing no_yt-1-0.npy\n",
            "24 now processing no_yt-3-1.npy\n",
            "25 now processing no_yt-6-1.npy\n",
            "26 now processing no_yt-2-1.npy\n",
            "27 now processing no_yt-0-1.npy\n",
            "28 now processing no_yt-5-1.npy\n",
            "29 now processing no_yt-1-1.npy\n",
            "30 now processing no_yt-4-1.npy\n",
            "31 now processing no_yt-7-1.npy\n",
            "32 now processing no_yt-3-2.npy\n",
            "33 now processing no_yt-6-2.npy\n",
            "34 now processing no_yt-5-2.npy\n",
            "35 now processing no_yt-7-2.npy\n",
            "36 now processing no_yt-0-2.npy\n",
            "37 now processing no_yt-1-2.npy\n",
            "38 now processing no_yt-2-2.npy\n",
            "39 now processing no_yt-4-2.npy\n",
            "40 now processing yt-6-0.npy\n",
            "41 now processing yt-1-0.npy\n",
            "42 now processing yt-5-0.npy\n",
            "43 now processing yt-7-0.npy\n",
            "44 now processing yt-3-0.npy\n",
            "45 now processing yt-4-0.npy\n",
            "46 now processing yt-0-0.npy\n",
            "47 now processing yt-2-0.npy\n",
            "48 now processing yt-2-1.npy\n",
            "49 now processing yt-3-1.npy\n",
            "50 now processing yt-5-1.npy\n",
            "51 now processing yt-0-1.npy\n",
            "52 now processing yt-1-1.npy\n",
            "53 now processing yt-4-1.npy\n",
            "54 now processing yt-6-1.npy\n",
            "55 now processing yt-7-1.npy\n",
            "56 now processing yt-4-2.npy\n",
            "57 now processing yt-7-2.npy\n",
            "58 now processing yt-0-2.npy\n",
            "59 now processing yt-1-2.npy\n",
            "60 now processing yt-2-2.npy\n",
            "61 now processing yt-6-2.npy\n",
            "62 now processing yt-3-2.npy\n",
            "63 now processing yt-5-2.npy\n",
            "64 now processing yt-6-3.npy\n",
            "65 now processing yt-1-3.npy\n",
            "66 now processing yt-5-3.npy\n",
            "67 now processing yt-0-3.npy\n",
            "68 now processing yt-2-3.npy\n",
            "69 now processing yt-3-3.npy\n",
            "70 now processing yt-4-3.npy\n",
            "71 now processing yt-7-3.npy\n",
            "72 now processing yt-5-4.npy\n",
            "73 now processing yt-3-4.npy\n",
            "74 now processing yt-0-4.npy\n",
            "75 now processing yt-4-4.npy\n",
            "76 now processing yt-7-4.npy\n",
            "77 now processing yt-6-4.npy\n",
            "78 now processing yt-2-4.npy\n",
            "79 now processing yt-1-4.npy\n",
            "80 now processing yt-7-5.npy\n",
            "81 now processing yt-2-5.npy\n",
            "82 now processing yt-0-5.npy\n",
            "83 now processing yt-1-5.npy\n",
            "84 now processing yt-3-5.npy\n",
            "85 now processing yt-6-5.npy\n",
            "86 now processing yt-4-5.npy\n",
            "87 now processing yt-5-5.npy\n",
            "88 now processing asllvd-0-0.npy\n",
            "44993\n",
            "44993\n"
          ]
        }
      ],
      "source": [
        "import os\n",
        "\n",
        "root = \"/content/drive/MyDrive/IEEE ML/Data\"\n",
        "\n",
        "X, y = np.array([]), np.array([])\n",
        "\n",
        "for root, dirs, files in os.walk(root):\n",
        "    for i, file in enumerate(files):\n",
        "        # if \"yt\" == file[:2]:\n",
        "        fname = os.path.join(root, file)\n",
        "        print(f\"{i+1} now processing {file}\")\n",
        "        data = np.load(fname, allow_pickle=True)\n",
        "        curr_X, curr_y = prepare_lstm_data(data)\n",
        "        X = np.append(X, curr_X)\n",
        "        y = np.append(y, curr_y)\n",
        "\n",
        "print(len(X))\n",
        "print(len(y))\n"
      ]
    },
    {
      "cell_type": "code",
      "execution_count": 4,
      "metadata": {
        "id": "gIhwfJJyjS67"
      },
      "outputs": [],
      "source": [
        "import torch\n",
        "from torch.nn.utils.rnn import pad_sequence\n",
        "import torch.nn.functional as F\n",
        "\n",
        "def create_padded_sequences(X):\n",
        "  sequences = [torch.tensor(seq, dtype=torch.float32) for seq in X]\n",
        "  X_padded = pad_sequence(sequences, batch_first=True, padding_value=0.0)\n",
        "  return X_padded\n",
        "\n",
        "def create_one_hot_y(Y):\n",
        "  y = torch.tensor(Y)\n",
        "  num_classes = torch.max(y) + 1\n",
        "  y_one_hot = F.one_hot(y, num_classes=num_classes)\n",
        "  return y_one_hot"
      ]
    },
    {
      "cell_type": "code",
      "execution_count": 5,
      "metadata": {
        "id": "7q_3MxiD5mPz"
      },
      "outputs": [],
      "source": [
        "def create_vocab(y):\n",
        "  \"\"\"\n",
        "  create and return to vocab to id mappings - bidirectional\n",
        "  \"\"\"\n",
        "  vocab_to_id = {}\n",
        "  id_to_vocab = []\n",
        "  count = 0\n",
        "  for id, label in enumerate(y):\n",
        "    if label in vocab_to_id:\n",
        "      continue\n",
        "    vocab_to_id[label] = count\n",
        "    id_to_vocab.append(label)\n",
        "    count+=1\n",
        "  return vocab_to_id, id_to_vocab\n",
        "\n",
        "def create_Y(y, vocab_to_id):\n",
        "  return [vocab_to_id[label] for label in y]"
      ]
    },
    {
      "cell_type": "code",
      "execution_count": null,
      "metadata": {
        "id": "eE5Qz4Rxc6pe"
      },
      "outputs": [],
      "source": [
        "#['TWENTY', 'ALONE', 'BACHELOR', 'ALWAYS', 'ONE']\n",
        "#output = [0.5, 0.2, 0.1, 0.1, 0.1], pred = 0\n",
        "#actual = 3, [0,0,0,1,0] #one-hot encoding"
      ]
    },
    {
      "cell_type": "code",
      "execution_count": 6,
      "metadata": {
        "colab": {
          "base_uri": "https://localhost:8080/"
        },
        "id": "tqYFECkMvH8E",
        "outputId": "f41e7107-3073-48a9-d573-4e9ed59db133"
      },
      "outputs": [
        {
          "output_type": "stream",
          "name": "stdout",
          "text": [
            "length X: 44100, length Y: 44100\n"
          ]
        }
      ],
      "source": [
        "keep = []\n",
        "for id, example in enumerate(X):\n",
        "  if len(example) == 0:\n",
        "    continue\n",
        "  keep.append(id)\n",
        "\n",
        "X, y = X[keep], y[keep]\n",
        "print(f\"length X: {len(X)}, length Y: {len(y)}\")"
      ]
    },
    {
      "cell_type": "code",
      "execution_count": 7,
      "metadata": {
        "id": "Cce5EuWE5v0I"
      },
      "outputs": [],
      "source": [
        "vocab_to_id, id_to_vocab = create_vocab(y)\n",
        "Y = create_Y(y, vocab_to_id)\n",
        "Y = torch.tensor(Y)"
      ]
    },
    {
      "cell_type": "code",
      "execution_count": 8,
      "metadata": {
        "colab": {
          "base_uri": "https://localhost:8080/"
        },
        "id": "FaZOMN79cjc6",
        "outputId": "3d89aaee-1b20-4aee-9173-6c70f22e8224"
      },
      "outputs": [
        {
          "output_type": "stream",
          "name": "stdout",
          "text": [
            "44100\n"
          ]
        },
        {
          "output_type": "execute_result",
          "data": {
            "text/plain": [
              "4943"
            ]
          },
          "metadata": {},
          "execution_count": 8
        }
      ],
      "source": [
        "print(len(Y))\n",
        "\n",
        "len(id_to_vocab)"
      ]
    },
    {
      "cell_type": "code",
      "source": [
        "import json\n",
        "\n",
        "with open('vocab.json', 'w+') as file:\n",
        "    json.dump(vocab_to_id, file)"
      ],
      "metadata": {
        "id": "8U6hPF7s8jhf"
      },
      "execution_count": 9,
      "outputs": []
    },
    {
      "cell_type": "code",
      "execution_count": 10,
      "metadata": {
        "id": "OIHywXHP7H96"
      },
      "outputs": [],
      "source": [
        "X_padded = create_padded_sequences(X)\n"
      ]
    },
    {
      "cell_type": "code",
      "execution_count": 11,
      "metadata": {
        "id": "-rpVGxJ0AL95"
      },
      "outputs": [],
      "source": [
        "import torch\n",
        "import torch.nn as nn\n",
        "\n",
        "class MultiLayerLSTM(nn.Module):\n",
        "    def __init__(self, input_size, hidden_size, num_classes, num_layers=3, dropout_rate=0):\n",
        "        super(MultiLayerLSTM, self).__init__()\n",
        "        # Initialize the LSTM layer with multiple layers and optionally add dropout\n",
        "        self.lstm = nn.LSTM(input_size, hidden_size, num_layers=num_layers,\n",
        "                            batch_first=True, dropout=dropout_rate, bidirectional=True)\n",
        "        # A dropout layer for some regularization\n",
        "        self.dropout = nn.Dropout(dropout_rate)\n",
        "        # A fully connected layer for the output\n",
        "        self.classifier = nn.Linear(2 * hidden_size, num_classes)\n",
        "\n",
        "    def forward(self, x):\n",
        "        # Pass data through the LSTM\n",
        "        # The output of this function are all hidden states at the last layer, hidden state, and the cell state at last time step\n",
        "        lstm_out, (h_n, c_n) = self.lstm(x)\n",
        "        # Apply dropout to the final hidden state\n",
        "        last_hidden_state = self.dropout(torch.cat((h_n[-2], h_n[-1]), dim=1))  # Concatenate the last states of both directions\n",
        "        # Fully connected layer to transform to class prediction space\n",
        "        out = self.classifier(last_hidden_state)\n",
        "        return out\n"
      ]
    },
    {
      "cell_type": "code",
      "execution_count": 19,
      "metadata": {
        "colab": {
          "base_uri": "https://localhost:8080/"
        },
        "id": "Ey-ZQw4YdS85",
        "outputId": "20937f3a-30e8-4db5-c058-1d52b8273629"
      },
      "outputs": [
        {
          "output_type": "stream",
          "name": "stdout",
          "text": [
            "MultiLayerLSTM(\n",
            "  (lstm): LSTM(126, 128, num_layers=4, batch_first=True, dropout=0.15, bidirectional=True)\n",
            "  (dropout): Dropout(p=0.15, inplace=False)\n",
            "  (classifier): Linear(in_features=256, out_features=4943, bias=True)\n",
            ")\n"
          ]
        }
      ],
      "source": [
        "# Parameters\n",
        "input_size = 126  # Number of input features (e.g., concatenated landmark features)\n",
        "hidden_size = 128  # Number of features in the hidden state\n",
        "num_classes = len(vocab_to_id)\n",
        "num_layers = 4  # Number of stacked LSTM layers\n",
        "dropout_rate = 0.15 # Dropout rate\n",
        "\n",
        "# Initialize the model\n",
        "model = MultiLayerLSTM(input_size, hidden_size, num_classes, num_layers, dropout_rate)\n",
        "\n",
        "# Print the model architecture\n",
        "print(model)"
      ]
    },
    {
      "cell_type": "code",
      "execution_count": 13,
      "metadata": {
        "id": "3JN0ESfKdkhG"
      },
      "outputs": [],
      "source": [
        "train, valid = int(len(X_padded) * 0.8), int(len(X_padded) * 0.1)\n",
        "\n",
        "X_train, Y_train = X_padded[:train], Y[:train]\n",
        "X_valid, Y_valid = X_padded[train:train+valid], Y[train:train+valid]\n",
        "X_test, Y_test = X_padded[train+valid:], Y[train+valid:]"
      ]
    },
    {
      "cell_type": "code",
      "execution_count": 14,
      "metadata": {
        "colab": {
          "base_uri": "https://localhost:8080/"
        },
        "id": "ee4_Z2OKwZ6p",
        "outputId": "40eef90c-7c28-43a9-fa90-2a83303fc06f"
      },
      "outputs": [
        {
          "output_type": "stream",
          "name": "stdout",
          "text": [
            "num points = train: 35280, valid: 4410, test: 4410\n",
            "num labels = train: 35280, valid: 4410, test: 4410\n"
          ]
        }
      ],
      "source": [
        "print(f\"num points = train: {len(X_train)}, valid: {len(X_valid)}, test: {len(X_test)}\")\n",
        "print(f\"num labels = train: {len(Y_train)}, valid: {len(Y_valid)}, test: {len(Y_test)}\")"
      ]
    },
    {
      "cell_type": "code",
      "execution_count": 15,
      "metadata": {
        "id": "d2cfXNOlOBd9"
      },
      "outputs": [],
      "source": [
        "device = torch.device(\"cuda\" if torch.cuda.is_available() else \"cpu\")"
      ]
    },
    {
      "cell_type": "code",
      "execution_count": 20,
      "metadata": {
        "id": "uYB4ErvqPajD"
      },
      "outputs": [],
      "source": [
        "model.to(device)\n",
        "\n",
        "X_train, Y_train = X_train.to(device), Y_train.to(device)\n",
        "X_valid, Y_valid = X_valid.to(device), Y_valid.to(device)\n",
        "X_test, Y_test = X_test.to(device), Y_test.to(device)\n",
        "\n"
      ]
    },
    {
      "cell_type": "code",
      "execution_count": 17,
      "metadata": {
        "id": "yVR-y7JWdY3T"
      },
      "outputs": [],
      "source": [
        "from torch.utils.data import DataLoader, TensorDataset\n",
        "\n",
        "# Create datasets\n",
        "train_dataset = TensorDataset(X_train, Y_train)\n",
        "valid_dataset = TensorDataset(X_valid, Y_valid)\n",
        "test_dataset = TensorDataset(X_test, Y_test)\n",
        "\n",
        "# Create dataloaders\n",
        "train_loader = DataLoader(train_dataset, batch_size=200, shuffle=True)\n",
        "valid_loader = DataLoader(valid_dataset, batch_size=50, shuffle=True)\n",
        "test_loader = DataLoader(test_dataset, batch_size=50, shuffle=False)"
      ]
    },
    {
      "cell_type": "code",
      "execution_count": 21,
      "metadata": {
        "colab": {
          "base_uri": "https://localhost:8080/"
        },
        "id": "v04sIrc4eaU6",
        "outputId": "d3b98424-5706-4004-f466-818034d31699"
      },
      "outputs": [
        {
          "output_type": "stream",
          "name": "stdout",
          "text": [
            "Epoch 1: Train Loss = 8.1398, Valid Loss = 7.3317\n",
            "Epoch 2: Train Loss = 7.6029, Valid Loss = 7.1129\n",
            "Epoch 3: Train Loss = 7.3543, Valid Loss = 7.0269\n",
            "Epoch 4: Train Loss = 7.1559, Valid Loss = 6.8635\n",
            "Epoch 5: Train Loss = 6.9744, Valid Loss = 6.7207\n",
            "Epoch 6: Train Loss = 6.8414, Valid Loss = 6.6807\n",
            "Epoch 7: Train Loss = 6.6555, Valid Loss = 6.5321\n",
            "Epoch 8: Train Loss = 6.4544, Valid Loss = 6.4596\n",
            "Epoch 9: Train Loss = 6.3204, Valid Loss = 6.4507\n",
            "Epoch 10: Train Loss = 6.1823, Valid Loss = 6.3306\n",
            "Epoch 11: Train Loss = 6.0513, Valid Loss = 6.2609\n",
            "Epoch 12: Train Loss = 5.9122, Valid Loss = 6.2155\n",
            "Epoch 13: Train Loss = 5.8008, Valid Loss = 6.1745\n",
            "Epoch 14: Train Loss = 5.7097, Valid Loss = 6.1227\n",
            "Epoch 15: Train Loss = 5.5814, Valid Loss = 6.0823\n",
            "Epoch 16: Train Loss = 5.4990, Valid Loss = 6.0888\n",
            "Epoch 17: Train Loss = 5.3781, Valid Loss = 5.9865\n",
            "Epoch 18: Train Loss = 5.3371, Valid Loss = 5.9586\n",
            "Epoch 19: Train Loss = 5.1666, Valid Loss = 5.9369\n",
            "Epoch 20: Train Loss = 5.1149, Valid Loss = 5.9990\n",
            "Epoch 21: Train Loss = 4.9982, Valid Loss = 5.9316\n",
            "Epoch 22: Train Loss = 4.8947, Valid Loss = 5.8673\n",
            "Epoch 23: Train Loss = 4.7882, Valid Loss = 5.8987\n",
            "Epoch 24: Train Loss = 4.7157, Valid Loss = 5.8203\n",
            "Epoch 25: Train Loss = 4.6239, Valid Loss = 5.8433\n",
            "Epoch 26: Saving Checkpoint\n",
            "Epoch 26: Train Loss = 4.5338, Valid Loss = 5.7925\n",
            "Epoch 27: Saving Checkpoint\n",
            "Epoch 27: Train Loss = 4.4369, Valid Loss = 5.7892\n",
            "Epoch 28: Saving Checkpoint\n",
            "Epoch 28: Train Loss = 4.3553, Valid Loss = 5.7295\n",
            "Epoch 29: Train Loss = 4.2782, Valid Loss = 5.7436\n",
            "Epoch 30: Train Loss = 4.1778, Valid Loss = 5.7786\n",
            "Epoch 31: Train Loss = 4.1130, Valid Loss = 5.7530\n",
            "Epoch 32: Train Loss = 4.0492, Valid Loss = 5.7804\n",
            "Epoch 33: Train Loss = 3.9809, Valid Loss = 5.8249\n",
            "Epoch 34: Saving Checkpoint\n",
            "Epoch 34: Train Loss = 3.9058, Valid Loss = 5.6957\n",
            "Epoch 35: Saving Checkpoint\n",
            "Epoch 35: Train Loss = 3.8102, Valid Loss = 5.6839\n",
            "Epoch 36: Train Loss = 3.7571, Valid Loss = 5.7135\n",
            "Epoch 37: Train Loss = 3.6608, Valid Loss = 5.6962\n",
            "Epoch 38: Saving Checkpoint\n",
            "Epoch 38: Train Loss = 3.6360, Valid Loss = 5.6808\n",
            "Epoch 39: Train Loss = 3.5502, Valid Loss = 5.7098\n",
            "Epoch 40: Train Loss = 3.5035, Valid Loss = 5.6877\n"
          ]
        }
      ],
      "source": [
        "criterion = torch.nn.CrossEntropyLoss()\n",
        "lr = 0.001\n",
        "optimizer = torch.optim.Adam(model.parameters(), lr=lr, weight_decay=1e-6)\n",
        "num_epochs = 40\n",
        "\n",
        "train_losses = []\n",
        "valid_losses = []\n",
        "\n",
        "best_loss = float(\"inf\")\n",
        "best_state_dict = None\n",
        "\n",
        "for epoch in range(num_epochs):\n",
        "    model.train()\n",
        "    train_loss = 0.0\n",
        "\n",
        "    for inputs, labels in train_loader:\n",
        "        optimizer.zero_grad()\n",
        "        outputs = model(inputs)\n",
        "        loss = criterion(outputs, labels)\n",
        "        loss.backward()\n",
        "        optimizer.step()\n",
        "        train_loss += loss.item()\n",
        "\n",
        "    # Validation phase\n",
        "    model.eval()\n",
        "    valid_loss = 0.0\n",
        "    with torch.no_grad():\n",
        "        for inputs, labels in valid_loader:\n",
        "            outputs = model(inputs)\n",
        "            loss = criterion(outputs, labels)\n",
        "            valid_loss += loss.item()\n",
        "\n",
        "    train_loss /= len(train_loader)\n",
        "    valid_loss /= len(valid_loader)\n",
        "\n",
        "    if epoch >= 25:\n",
        "      if valid_loss < best_loss:\n",
        "        print(f\"Epoch {epoch+1}: Saving Checkpoint\")\n",
        "        best_state_dict, best_loss = model.state_dict(), valid_loss\n",
        "\n",
        "\n",
        "    train_losses.append(train_loss)\n",
        "    valid_losses.append(valid_loss)\n",
        "\n",
        "    print(f\"Epoch {epoch+1}: Train Loss = {train_loss:.4f}, Valid Loss = {valid_loss:.4f}\")\n"
      ]
    },
    {
      "cell_type": "code",
      "execution_count": 35,
      "metadata": {
        "id": "Q0GnPxyBcdF5"
      },
      "outputs": [],
      "source": [
        "torch.save(best_state_dict, \"model_state_dict.pth\")"
      ]
    },
    {
      "cell_type": "code",
      "execution_count": 24,
      "metadata": {
        "id": "CHZMyu2pZGhB"
      },
      "outputs": [],
      "source": [
        "import matplotlib.pyplot as plt\n",
        "\n",
        "def plot_loss_curves(train_losses, valid_losses, title):\n",
        "    plt.figure(figsize=(10, 5))\n",
        "    plt.plot(train_losses, label=f'Training Loss')\n",
        "    plt.plot(valid_losses, label=f'Validation Loss')\n",
        "    plt.title(f'Loss Curves: {title}')\n",
        "    plt.xlabel('Epoch')\n",
        "    plt.ylabel('Loss')\n",
        "    plt.legend()\n",
        "    plt.grid(True)\n",
        "    plt.show()"
      ]
    },
    {
      "cell_type": "code",
      "execution_count": 25,
      "metadata": {
        "colab": {
          "base_uri": "https://localhost:8080/",
          "height": 487
        },
        "id": "G2rKPqb2ZH-J",
        "outputId": "bc37c8ef-08e1-41b3-e87c-70ebe2f80343"
      },
      "outputs": [
        {
          "output_type": "display_data",
          "data": {
            "text/plain": [
              "<Figure size 1000x500 with 1 Axes>"
            ],
            "image/png": "[encoded data removed]"
          },
          "metadata": {}
        }
      ],
      "source": [
        "plot_loss_curves(train_losses, valid_losses, \"LSTM Cross Entropy Loss\")"
      ]
    },
    {
      "cell_type": "code",
      "execution_count": 22,
      "metadata": {
        "colab": {
          "base_uri": "https://localhost:8080/"
        },
        "id": "0HbyDPhJeb6n",
        "outputId": "aa368829-2830-4967-bf44-8032e91a9c52"
      },
      "outputs": [
        {
          "output_type": "stream",
          "name": "stdout",
          "text": [
            "Test Loss: 6.0610\n"
          ]
        }
      ],
      "source": [
        "test_loss = 0.0\n",
        "with torch.no_grad():\n",
        "    for inputs, labels in test_loader:\n",
        "        outputs = model(inputs)\n",
        "        loss = criterion(outputs, labels)\n",
        "        test_loss += loss.item()\n",
        "\n",
        "test_loss /= len(test_loader)\n",
        "print(f\"Test Loss: {test_loss:.4f}\")"
      ]
    },
    {
      "cell_type": "code",
      "execution_count": 26,
      "metadata": {
        "id": "5WaavOOuckLx"
      },
      "outputs": [],
      "source": [
        "import numpy as np\n",
        "import torch\n",
        "import torch.nn.functional as F\n",
        "\n",
        "def predict_from_numpy(model, example, id_to_vocab):\n",
        "    \"\"\"\n",
        "    Takes a PyTorch model and a NumPy array containing a single example, converts it to a tensor,\n",
        "    runs the model to predict logit scores, applies softmax, and returns the predicted class index.\n",
        "\n",
        "    Args:\n",
        "    - model (torch.nn.Module): The trained PyTorch model.\n",
        "    - input: list containing the media pipe features\n",
        "\n",
        "    Returns:\n",
        "    - int: The index of the highest probability class.\n",
        "    \"\"\"\n",
        "    model.eval()\n",
        "\n",
        "    # Convert the NumPy array to a PyTorch tensor\n",
        "    input_tensor = torch.tensor(example).float()  # Ensure it's a float tensor for most models\n",
        "\n",
        "    # Add a batch dimension using unsqueeze if necessary\n",
        "    if input_tensor.dim() == 1:\n",
        "        input_tensor = input_tensor.unsqueeze(0)\n",
        "\n",
        "    with torch.no_grad():\n",
        "        logits = model(input_tensor)\n",
        "\n",
        "    probabilities = F.softmax(logits, dim=1)\n",
        "\n",
        "    _, predicted_index = torch.max(probabilities, dim=1)\n",
        "\n",
        "    return id_to_vocab[predicted_index.item()]\n"
      ]
    },
    {
      "cell_type": "code",
      "source": [
        "# Parameters\n",
        "input_size = 126  # Number of input features (e.g., concatenated landmark features)\n",
        "hidden_size = 128  # Number of features in the hidden state\n",
        "num_classes = len(vocab_to_id)\n",
        "num_layers = 3  # Number of stacked LSTM layers\n",
        "dropout_rate = 0.15 # Dropout rate\n",
        "\n",
        "# Initialize the model\n",
        "model = MultiLayerLSTM(input_size, hidden_size, num_classes, num_layers, dropout_rate)\n",
        "\n",
        "# Print the model architecture\n",
        "print(model)\n",
        "\n",
        "state_dict = torch.load('model_state_dict.pth')\n",
        "model.load_state_dict(state_dict)"
      ],
      "metadata": {
        "colab": {
          "base_uri": "https://localhost:8080/",
          "height": 444
        },
        "id": "mKENwhSf4jbD",
        "outputId": "a10fa995-63a7-4a91-b141-8863be8b79ed"
      },
      "execution_count": 28,
      "outputs": [
        {
          "output_type": "stream",
          "name": "stdout",
          "text": [
            "MultiLayerLSTM(\n",
            "  (lstm): LSTM(126, 128, num_layers=3, batch_first=True, dropout=0.15, bidirectional=True)\n",
            "  (dropout): Dropout(p=0.15, inplace=False)\n",
            "  (classifier): Linear(in_features=256, out_features=4943, bias=True)\n",
            ")\n"
          ]
        },
        {
          "output_type": "error",
          "ename": "FileNotFoundError",
          "evalue": "[Errno 2] No such file or directory: 'model_state_dict.pth'",
          "traceback": [
            "\u001b[0;31m---------------------------------------------------------------------------\u001b[0m",
            "\u001b[0;31mFileNotFoundError\u001b[0m                         Traceback (most recent call last)",
            "\u001b[0;32m<ipython-input-28-16f1160af2de>\u001b[0m in \u001b[0;36m<cell line: 14>\u001b[0;34m()\u001b[0m\n\u001b[1;32m     12\u001b[0m \u001b[0mprint\u001b[0m\u001b[0;34m(\u001b[0m\u001b[0mmodel\u001b[0m\u001b[0;34m)\u001b[0m\u001b[0;34m\u001b[0m\u001b[0;34m\u001b[0m\u001b[0m\n\u001b[1;32m     13\u001b[0m \u001b[0;34m\u001b[0m\u001b[0m\n\u001b[0;32m---> 14\u001b[0;31m \u001b[0mstate_dict\u001b[0m \u001b[0;34m=\u001b[0m \u001b[0mtorch\u001b[0m\u001b[0;34m.\u001b[0m\u001b[0mload\u001b[0m\u001b[0;34m(\u001b[0m\u001b[0;34m'model_state_dict.pth'\u001b[0m\u001b[0;34m)\u001b[0m\u001b[0;34m\u001b[0m\u001b[0;34m\u001b[0m\u001b[0m\n\u001b[0m\u001b[1;32m     15\u001b[0m \u001b[0mmodel\u001b[0m\u001b[0;34m.\u001b[0m\u001b[0mload_state_dict\u001b[0m\u001b[0;34m(\u001b[0m\u001b[0mstate_dict\u001b[0m\u001b[0;34m)\u001b[0m\u001b[0;34m\u001b[0m\u001b[0;34m\u001b[0m\u001b[0m\n",
            "\u001b[0;32m/usr/local/lib/python3.10/dist-packages/torch/serialization.py\u001b[0m in \u001b[0;36mload\u001b[0;34m(f, map_location, pickle_module, weights_only, mmap, **pickle_load_args)\u001b[0m\n\u001b[1;32m    996\u001b[0m         \u001b[0mpickle_load_args\u001b[0m\u001b[0;34m[\u001b[0m\u001b[0;34m'encoding'\u001b[0m\u001b[0;34m]\u001b[0m \u001b[0;34m=\u001b[0m \u001b[0;34m'utf-8'\u001b[0m\u001b[0;34m\u001b[0m\u001b[0;34m\u001b[0m\u001b[0m\n\u001b[1;32m    997\u001b[0m \u001b[0;34m\u001b[0m\u001b[0m\n\u001b[0;32m--> 998\u001b[0;31m     \u001b[0;32mwith\u001b[0m \u001b[0m_open_file_like\u001b[0m\u001b[0;34m(\u001b[0m\u001b[0mf\u001b[0m\u001b[0;34m,\u001b[0m \u001b[0;34m'rb'\u001b[0m\u001b[0;34m)\u001b[0m \u001b[0;32mas\u001b[0m \u001b[0mopened_file\u001b[0m\u001b[0;34m:\u001b[0m\u001b[0;34m\u001b[0m\u001b[0;34m\u001b[0m\u001b[0m\n\u001b[0m\u001b[1;32m    999\u001b[0m         \u001b[0;32mif\u001b[0m \u001b[0m_is_zipfile\u001b[0m\u001b[0;34m(\u001b[0m\u001b[0mopened_file\u001b[0m\u001b[0;34m)\u001b[0m\u001b[0;34m:\u001b[0m\u001b[0;34m\u001b[0m\u001b[0;34m\u001b[0m\u001b[0m\n\u001b[1;32m   1000\u001b[0m             \u001b[0;31m# The zipfile reader is going to advance the current file position.\u001b[0m\u001b[0;34m\u001b[0m\u001b[0;34m\u001b[0m\u001b[0m\n",
            "\u001b[0;32m/usr/local/lib/python3.10/dist-packages/torch/serialization.py\u001b[0m in \u001b[0;36m_open_file_like\u001b[0;34m(name_or_buffer, mode)\u001b[0m\n\u001b[1;32m    443\u001b[0m \u001b[0;32mdef\u001b[0m \u001b[0m_open_file_like\u001b[0m\u001b[0;34m(\u001b[0m\u001b[0mname_or_buffer\u001b[0m\u001b[0;34m,\u001b[0m \u001b[0mmode\u001b[0m\u001b[0;34m)\u001b[0m\u001b[0;34m:\u001b[0m\u001b[0;34m\u001b[0m\u001b[0;34m\u001b[0m\u001b[0m\n\u001b[1;32m    444\u001b[0m     \u001b[0;32mif\u001b[0m \u001b[0m_is_path\u001b[0m\u001b[0;34m(\u001b[0m\u001b[0mname_or_buffer\u001b[0m\u001b[0;34m)\u001b[0m\u001b[0;34m:\u001b[0m\u001b[0;34m\u001b[0m\u001b[0;34m\u001b[0m\u001b[0m\n\u001b[0;32m--> 445\u001b[0;31m         \u001b[0;32mreturn\u001b[0m \u001b[0m_open_file\u001b[0m\u001b[0;34m(\u001b[0m\u001b[0mname_or_buffer\u001b[0m\u001b[0;34m,\u001b[0m \u001b[0mmode\u001b[0m\u001b[0;34m)\u001b[0m\u001b[0;34m\u001b[0m\u001b[0;34m\u001b[0m\u001b[0m\n\u001b[0m\u001b[1;32m    446\u001b[0m     \u001b[0;32melse\u001b[0m\u001b[0;34m:\u001b[0m\u001b[0;34m\u001b[0m\u001b[0;34m\u001b[0m\u001b[0m\n\u001b[1;32m    447\u001b[0m         \u001b[0;32mif\u001b[0m \u001b[0;34m'w'\u001b[0m \u001b[0;32min\u001b[0m \u001b[0mmode\u001b[0m\u001b[0;34m:\u001b[0m\u001b[0;34m\u001b[0m\u001b[0;34m\u001b[0m\u001b[0m\n",
            "\u001b[0;32m/usr/local/lib/python3.10/dist-packages/torch/serialization.py\u001b[0m in \u001b[0;36m__init__\u001b[0;34m(self, name, mode)\u001b[0m\n\u001b[1;32m    424\u001b[0m \u001b[0;32mclass\u001b[0m \u001b[0m_open_file\u001b[0m\u001b[0;34m(\u001b[0m\u001b[0m_opener\u001b[0m\u001b[0;34m)\u001b[0m\u001b[0;34m:\u001b[0m\u001b[0;34m\u001b[0m\u001b[0;34m\u001b[0m\u001b[0m\n\u001b[1;32m    425\u001b[0m     \u001b[0;32mdef\u001b[0m \u001b[0m__init__\u001b[0m\u001b[0;34m(\u001b[0m\u001b[0mself\u001b[0m\u001b[0;34m,\u001b[0m \u001b[0mname\u001b[0m\u001b[0;34m,\u001b[0m \u001b[0mmode\u001b[0m\u001b[0;34m)\u001b[0m\u001b[0;34m:\u001b[0m\u001b[0;34m\u001b[0m\u001b[0;34m\u001b[0m\u001b[0m\n\u001b[0;32m--> 426\u001b[0;31m         \u001b[0msuper\u001b[0m\u001b[0;34m(\u001b[0m\u001b[0;34m)\u001b[0m\u001b[0;34m.\u001b[0m\u001b[0m__init__\u001b[0m\u001b[0;34m(\u001b[0m\u001b[0mopen\u001b[0m\u001b[0;34m(\u001b[0m\u001b[0mname\u001b[0m\u001b[0;34m,\u001b[0m \u001b[0mmode\u001b[0m\u001b[0;34m)\u001b[0m\u001b[0;34m)\u001b[0m\u001b[0;34m\u001b[0m\u001b[0;34m\u001b[0m\u001b[0m\n\u001b[0m\u001b[1;32m    427\u001b[0m \u001b[0;34m\u001b[0m\u001b[0m\n\u001b[1;32m    428\u001b[0m     \u001b[0;32mdef\u001b[0m \u001b[0m__exit__\u001b[0m\u001b[0;34m(\u001b[0m\u001b[0mself\u001b[0m\u001b[0;34m,\u001b[0m \u001b[0;34m*\u001b[0m\u001b[0margs\u001b[0m\u001b[0;34m)\u001b[0m\u001b[0;34m:\u001b[0m\u001b[0;34m\u001b[0m\u001b[0;34m\u001b[0m\u001b[0m\n",
            "\u001b[0;31mFileNotFoundError\u001b[0m: [Errno 2] No such file or directory: 'model_state_dict.pth'"
          ]
        }
      ]
    },
    {
      "cell_type": "code",
      "source": [
        "model.to(torch.device(\"cpu\"))"
      ],
      "metadata": {
        "colab": {
          "base_uri": "https://localhost:8080/"
        },
        "id": "jQnzYO8k_Rcx",
        "outputId": "df945c66-ac60-489b-9af1-6a478b74417b"
      },
      "execution_count": 29,
      "outputs": [
        {
          "output_type": "execute_result",
          "data": {
            "text/plain": [
              "MultiLayerLSTM(\n",
              "  (lstm): LSTM(126, 128, num_layers=3, batch_first=True, dropout=0.15, bidirectional=True)\n",
              "  (dropout): Dropout(p=0.15, inplace=False)\n",
              "  (classifier): Linear(in_features=256, out_features=4943, bias=True)\n",
              ")"
            ]
          },
          "metadata": {},
          "execution_count": 29
        }
      ]
    },
    {
      "cell_type": "code",
      "execution_count": 34,
      "metadata": {
        "id": "Ro7zbx3vgpij",
        "colab": {
          "base_uri": "https://localhost:8080/"
        },
        "outputId": "d0545a93-2ebc-49ff-bffe-a50937d9b354"
      },
      "outputs": [
        {
          "output_type": "stream",
          "name": "stdout",
          "text": [
            "actual sign: ALONE, predicted sign: hamburger\n"
          ]
        }
      ],
      "source": [
        "i = 1\n",
        "actual = y[i]\n",
        "pred = predict_from_numpy(model, [X[i]], id_to_vocab)\n",
        "print(f\"actual sign: {actual}, predicted sign: {pred}\")"
      ]
    }
  ],
  "metadata": {
    "accelerator": "GPU",
    "colab": {
      "gpuType": "L4",
      "provenance": []
    },
    "kernelspec": {
      "display_name": "Python 3",
      "name": "python3"
    },
    "language_info": {
      "name": "python"
    }
  },
  "nbformat": 4,
  "nbformat_minor": 0
}